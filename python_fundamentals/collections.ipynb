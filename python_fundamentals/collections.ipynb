{
  "cells": [
    {
      "cell_type": "markdown",
      "metadata": {
        "id": "view-in-github",
        "colab_type": "text"
      },
      "source": [
        "<a href=\"https://colab.research.google.com/github/abrhamgs3/DICE-IAM/blob/mainbranch/python_fundamentals/collections.ipynb\" target=\"_parent\"><img src=\"https://colab.research.google.com/assets/colab-badge.svg\" alt=\"Open In Colab\"/></a>"
      ]
    },
    {
      "cell_type": "markdown",
      "id": "99491be6",
      "metadata": {
        "id": "99491be6"
      },
      "source": [
        "# Collections\n",
        "\n",
        "**Prerequisites**\n",
        "\n",
        "- [Core data types](https://datascience.quantecon.org/basics.html)  \n",
        "\n",
        "\n",
        "**Outcomes**\n",
        "\n",
        "- Ordered Collections  \n",
        "  - Know what a list is and a tuple is  \n",
        "  - Know how to tell a list from a tuple  \n",
        "  - Understand the `range`, `zip` and `enumerate` functions  \n",
        "  - Be able to use common list methods like `append`, `sort`,\n",
        "    and `reverse`  \n",
        "- Associative Collections  \n",
        "  - Understand what a `dict` is  \n",
        "  - Know the distinction between a dicts keys and values  \n",
        "  - Understand when `dict`s are useful  \n",
        "  - Be familiar with common `dict` methods  \n",
        "- Sets  (optional)  \n",
        "  - Know what a set is  \n",
        "  - Understand how a set differs from a list and a tuple  \n",
        "  - Know when to use a set vs a list or a tuple  "
      ]
    },
    {
      "cell_type": "markdown",
      "id": "0f052c25",
      "metadata": {
        "id": "0f052c25"
      },
      "source": [
        "## Ordered Collections"
      ]
    },
    {
      "cell_type": "markdown",
      "id": "bda7148a",
      "metadata": {
        "id": "bda7148a"
      },
      "source": [
        "### Lists\n",
        "\n",
        "A Python list is an ordered collection of items.\n",
        "\n",
        "We can create lists using the following syntax"
      ]
    },
    {
      "cell_type": "code",
      "execution_count": null,
      "id": "494c26b5",
      "metadata": {
        "hide-output": false,
        "id": "494c26b5"
      },
      "outputs": [],
      "source": [
        "[item1, item2, ...,  itemN]"
      ]
    },
    {
      "cell_type": "markdown",
      "id": "e84e4f76",
      "metadata": {
        "id": "e84e4f76"
      },
      "source": [
        "where the `...` represents any number of additional items.\n",
        "\n",
        "Each item can be of any type.\n",
        "\n",
        "Let’s create some lists."
      ]
    },
    {
      "cell_type": "code",
      "execution_count": null,
      "id": "030969a1",
      "metadata": {
        "hide-output": false,
        "id": "030969a1"
      },
      "outputs": [],
      "source": [
        "# created, but not assigned to a variable\n",
        "[2.0, 9.1, 12.5]"
      ]
    },
    {
      "cell_type": "code",
      "execution_count": null,
      "id": "dea7c062",
      "metadata": {
        "hide-output": false,
        "id": "dea7c062"
      },
      "outputs": [],
      "source": [
        "# stored as the variable `x`\n",
        "x = [2.0, 9.1, 12.5]\n",
        "print(\"x has type\", type(x))\n",
        "x"
      ]
    },
    {
      "cell_type": "markdown",
      "id": "1b684682",
      "metadata": {
        "id": "1b684682"
      },
      "source": [
        "#### What Can We Do with Lists?\n",
        "\n",
        "We can access items in a list called `mylist` using `mylist[N]`\n",
        "where `N` is an integer.\n",
        "\n",
        "Note: Anytime that we use the syntax `x[i]` we are doing what is\n",
        "called indexing – it means that we are selecting a particular element\n",
        "of a *collection* `x`."
      ]
    },
    {
      "cell_type": "code",
      "execution_count": null,
      "id": "17cd6796",
      "metadata": {
        "hide-output": false,
        "id": "17cd6796"
      },
      "outputs": [],
      "source": [
        "x[1]"
      ]
    },
    {
      "cell_type": "markdown",
      "id": "d06123ec",
      "metadata": {
        "id": "d06123ec"
      },
      "source": [
        "Wait? Why did `x[1]` return `9.1` when the first element in x is\n",
        "actually `2.0`?\n",
        "\n",
        "This happened because Python starts counting at zero!\n",
        "\n",
        "Lets repeat that one more time for emphasis **Python starts counting at zero**!\n",
        "\n",
        "To access the first element of x we must use `x[0]`:"
      ]
    },
    {
      "cell_type": "code",
      "execution_count": null,
      "id": "02f71cce",
      "metadata": {
        "hide-output": false,
        "id": "02f71cce"
      },
      "outputs": [],
      "source": [
        "x[0]"
      ]
    },
    {
      "cell_type": "markdown",
      "id": "07a9a8c0",
      "metadata": {
        "id": "07a9a8c0"
      },
      "source": [
        "We can also determine how many items are in a list using the `len` function."
      ]
    },
    {
      "cell_type": "code",
      "execution_count": null,
      "id": "ed0b88ef",
      "metadata": {
        "hide-output": false,
        "id": "ed0b88ef"
      },
      "outputs": [],
      "source": [
        "len(x)"
      ]
    },
    {
      "cell_type": "markdown",
      "id": "2b85ccd1",
      "metadata": {
        "id": "2b85ccd1"
      },
      "source": [
        "What happens if we try to index with a number higher than the number of\n",
        "items in a list?"
      ]
    },
    {
      "cell_type": "code",
      "execution_count": null,
      "id": "4f7c02e5",
      "metadata": {
        "hide-output": false,
        "id": "4f7c02e5"
      },
      "outputs": [],
      "source": [
        "# uncomment the line below and run\n",
        "# x[4]"
      ]
    },
    {
      "cell_type": "markdown",
      "id": "faca1708",
      "metadata": {
        "id": "faca1708"
      },
      "source": [
        "We can check if a list contains an element using the `in` keyword."
      ]
    },
    {
      "cell_type": "code",
      "execution_count": null,
      "id": "b10d9f1e",
      "metadata": {
        "hide-output": false,
        "id": "b10d9f1e"
      },
      "outputs": [],
      "source": [
        "2.0 in x"
      ]
    },
    {
      "cell_type": "code",
      "execution_count": null,
      "id": "b9865096",
      "metadata": {
        "hide-output": false,
        "id": "b9865096"
      },
      "outputs": [],
      "source": [
        "1.5 in x"
      ]
    },
    {
      "cell_type": "markdown",
      "id": "4515877b",
      "metadata": {
        "id": "4515877b"
      },
      "source": [
        "For our list `x`, other common operations we might want to do are…"
      ]
    },
    {
      "cell_type": "code",
      "execution_count": null,
      "id": "c3a4e34b",
      "metadata": {
        "hide-output": false,
        "id": "c3a4e34b"
      },
      "outputs": [],
      "source": [
        "x.reverse()\n",
        "x"
      ]
    },
    {
      "cell_type": "code",
      "execution_count": null,
      "id": "694c0866",
      "metadata": {
        "hide-output": false,
        "id": "694c0866"
      },
      "outputs": [],
      "source": [
        "number_list = [10, 25, 42, 1.0]\n",
        "print(number_list)\n",
        "number_list.sort()\n",
        "print(number_list)"
      ]
    },
    {
      "cell_type": "markdown",
      "id": "c83a0849",
      "metadata": {
        "id": "c83a0849"
      },
      "source": [
        "Note that in order to `sort`, we had to have all elements in our list\n",
        "be numbers (`int` and `float`), more on this [below](#inhomogenous-lists).\n",
        "\n",
        "We could actually do the same with a list of strings. In this case, `sort`\n",
        "will put the items in alphabetical order."
      ]
    },
    {
      "cell_type": "code",
      "execution_count": null,
      "id": "b4949be5",
      "metadata": {
        "hide-output": false,
        "id": "b4949be5"
      },
      "outputs": [],
      "source": [
        "str_list = [\"NY\", \"AZ\", \"TX\"]\n",
        "print(str_list)\n",
        "str_list.sort()\n",
        "print(str_list)"
      ]
    },
    {
      "cell_type": "markdown",
      "id": "80623610",
      "metadata": {
        "id": "80623610"
      },
      "source": [
        "The `append` method adds an element to the end of existing list."
      ]
    },
    {
      "cell_type": "code",
      "execution_count": null,
      "id": "17c12194",
      "metadata": {
        "hide-output": false,
        "id": "17c12194"
      },
      "outputs": [],
      "source": [
        "num_list = [10, 25, 42, 8]\n",
        "print(num_list)\n",
        "num_list.append(10)\n",
        "print(num_list)"
      ]
    },
    {
      "cell_type": "markdown",
      "id": "8915bcf7",
      "metadata": {
        "id": "8915bcf7"
      },
      "source": [
        "However, if you call `append` with a list, it adds a `list` to the end,\n",
        "rather than the numbers in that list."
      ]
    },
    {
      "cell_type": "code",
      "execution_count": null,
      "id": "8da0cc52",
      "metadata": {
        "hide-output": false,
        "id": "8da0cc52"
      },
      "outputs": [],
      "source": [
        "num_list = [10, 25, 42, 8]\n",
        "print(num_list)\n",
        "num_list.append([20, 4])\n",
        "print(num_list)"
      ]
    },
    {
      "cell_type": "markdown",
      "id": "294c672f",
      "metadata": {
        "id": "294c672f"
      },
      "source": [
        "To combine the lists instead…"
      ]
    },
    {
      "cell_type": "code",
      "execution_count": null,
      "id": "9d776fa1",
      "metadata": {
        "hide-output": false,
        "id": "9d776fa1"
      },
      "outputs": [],
      "source": [
        "num_list = [10, 25, 42, 8]\n",
        "print(num_list)\n",
        "num_list.extend([20, 4])\n",
        "print(num_list)"
      ]
    },
    {
      "cell_type": "markdown",
      "id": "103b8bb9",
      "metadata": {
        "id": "103b8bb9"
      },
      "source": [
        "#### Exercise\n",
        "\n",
        "See exercise 1 in the [exercise list](#ex2-2).\n",
        "\n",
        "\n",
        "<a id='inhomogenous-lists'></a>"
      ]
    },
    {
      "cell_type": "markdown",
      "id": "c458012f",
      "metadata": {
        "id": "c458012f"
      },
      "source": [
        "### Lists of Different Types\n",
        "\n",
        "While most examples above have all used a `list` with\n",
        "a single type of variable, this is not required.\n",
        "\n",
        "Let’s carefully make a small change to the first example: replace `2.0` with `2`"
      ]
    },
    {
      "cell_type": "code",
      "execution_count": null,
      "id": "cd9579c6",
      "metadata": {
        "hide-output": false,
        "id": "cd9579c6"
      },
      "outputs": [],
      "source": [
        "x = [2, 9.1, 12.5]"
      ]
    },
    {
      "cell_type": "markdown",
      "id": "2343e34b",
      "metadata": {
        "id": "2343e34b"
      },
      "source": [
        "This behavior is identical for many operations you might\n",
        "apply to a list."
      ]
    },
    {
      "cell_type": "code",
      "execution_count": null,
      "id": "4e9cc1a7",
      "metadata": {
        "hide-output": false,
        "id": "4e9cc1a7"
      },
      "outputs": [],
      "source": [
        "import numpy as np\n",
        "x = [2, 9.1, 12.5]\n",
        "np.mean(x) == sum(x)/len(x)"
      ]
    },
    {
      "cell_type": "markdown",
      "id": "8b455d30",
      "metadata": {
        "id": "8b455d30"
      },
      "source": [
        "Here we have also introduced a new [module](https://datascience.quantecon.org/basics.html#modules),\n",
        "[Numpy](https://datascience.quantecon.org/../scientific/index.html), which provides many functions\n",
        "for working with numeric data.\n",
        "\n",
        "Taking this further, we can put completely different types of elements\n",
        "inside of a list."
      ]
    },
    {
      "cell_type": "code",
      "execution_count": 6,
      "id": "49810673",
      "metadata": {
        "hide-output": false,
        "id": "49810673",
        "outputId": "ff6fb31e-9810-4d82-ed40-2d347b1c1728",
        "colab": {
          "base_uri": "https://localhost:8080/"
        }
      },
      "outputs": [
        {
          "output_type": "stream",
          "name": "stdout",
          "text": [
            "x has type <class 'list'>\n"
          ]
        },
        {
          "output_type": "execute_result",
          "data": {
            "text/plain": [
              "[2, 'hello', 3.0]"
            ]
          },
          "metadata": {},
          "execution_count": 6
        }
      ],
      "source": [
        "# stored as the variable `x`\n",
        "x = [2, \"hello\", 3.0]\n",
        "print(\"x has type\", type(x))\n",
        "x"
      ]
    },
    {
      "cell_type": "markdown",
      "id": "e6a88274",
      "metadata": {
        "id": "e6a88274"
      },
      "source": [
        "To see the types of individual elements in the list:"
      ]
    },
    {
      "cell_type": "code",
      "execution_count": null,
      "id": "a2fa87b0",
      "metadata": {
        "hide-output": false,
        "id": "a2fa87b0"
      },
      "outputs": [],
      "source": [
        "print(f\"type(x[0]) = {type(x[0])}, type(x[1]) = {type(x[1])}, type(x[2]) = {type(x[2])}\")"
      ]
    },
    {
      "cell_type": "markdown",
      "id": "dd818d07",
      "metadata": {
        "id": "dd818d07"
      },
      "source": [
        "While no programming limitations prevent this, you should be careful if you write code\n",
        "with different numeric and non-numeric types in the same list.\n",
        "\n",
        "For example, if the types within the list cannot be compared, then how could you sort the elements of the list? (i.e. How do you determine whether the string “hello” is less than the integer 2, “hello” < 2?)"
      ]
    },
    {
      "cell_type": "code",
      "execution_count": 8,
      "id": "315674f5",
      "metadata": {
        "hide-output": false,
        "id": "315674f5"
      },
      "outputs": [],
      "source": [
        "x = [2, \"hello\", 3.0]\n",
        "# uncomment the line below and see what happens!\n",
        "# x.sort()"
      ]
    },
    {
      "cell_type": "code",
      "source": [
        "#x[1].drop()\n",
        "x = [2.0 if item ==2 else item for item in x]\n",
        "x"
      ],
      "metadata": {
        "id": "BLczrZ28-Z2K",
        "outputId": "923160ee-41a8-4998-9eaa-77ba22ff5796",
        "colab": {
          "base_uri": "https://localhost:8080/"
        }
      },
      "id": "BLczrZ28-Z2K",
      "execution_count": 15,
      "outputs": [
        {
          "output_type": "execute_result",
          "data": {
            "text/plain": [
              "[2.0, 'hello', 3.0]"
            ]
          },
          "metadata": {},
          "execution_count": 15
        }
      ]
    },
    {
      "cell_type": "code",
      "source": [
        "x = [item for item in x if item != 'hello']\n",
        "x"
      ],
      "metadata": {
        "id": "6XIYFgTsAKS3",
        "outputId": "feb8cf23-b19f-47fc-eb5a-f6cbd38401b8",
        "colab": {
          "base_uri": "https://localhost:8080/"
        }
      },
      "id": "6XIYFgTsAKS3",
      "execution_count": 19,
      "outputs": [
        {
          "output_type": "execute_result",
          "data": {
            "text/plain": [
              "[2.0, 3.0]"
            ]
          },
          "metadata": {},
          "execution_count": 19
        }
      ]
    },
    {
      "cell_type": "markdown",
      "id": "e5a00caa",
      "metadata": {
        "id": "e5a00caa"
      },
      "source": [
        "A few key exceptions to this general rule are:\n",
        "\n",
        "- Lists with both integers and floating points are less error-prone\n",
        "  (since mathematical code using the list would work with both types).  \n",
        "- When working with lists and data, you may want to represent missing\n",
        "  values with a different type than the existing values.  "
      ]
    },
    {
      "cell_type": "markdown",
      "id": "a683d6a0",
      "metadata": {
        "id": "a683d6a0"
      },
      "source": [
        "### The `range` Function\n",
        "\n",
        "One function you will see often in Python is the `range` function.\n",
        "\n",
        "It has three versions:\n",
        "\n",
        "1. `range(N)`: goes from 0 to N-1  \n",
        "1. `range(a, N)`: goes from a to N-1  \n",
        "1. `range(a, N, d)`: goes from a to N-1, counting by d  \n",
        "\n",
        "\n",
        "When we call the `range` function, we get back something that has type `range`:"
      ]
    },
    {
      "cell_type": "code",
      "execution_count": null,
      "id": "6dc3cc6e",
      "metadata": {
        "hide-output": false,
        "id": "6dc3cc6e"
      },
      "outputs": [],
      "source": [
        "r = range(5)\n",
        "print(\"type(r)\", type(r))"
      ]
    },
    {
      "cell_type": "markdown",
      "id": "d1859737",
      "metadata": {
        "id": "d1859737"
      },
      "source": [
        "To turn the `range` into a list:"
      ]
    },
    {
      "cell_type": "code",
      "execution_count": null,
      "id": "6a0d5edb",
      "metadata": {
        "hide-output": false,
        "id": "6a0d5edb"
      },
      "outputs": [],
      "source": [
        "list(r)"
      ]
    },
    {
      "cell_type": "markdown",
      "id": "95be4508",
      "metadata": {
        "id": "95be4508"
      },
      "source": [
        "### Exercise\n",
        "\n",
        "See exercise 2 in the [exercise list](#ex2-2)."
      ]
    },
    {
      "cell_type": "markdown",
      "id": "71cb9eba",
      "metadata": {
        "id": "71cb9eba"
      },
      "source": [
        "### What are Tuples?\n",
        "\n",
        "Tuples are very similar to lists and hold ordered collections of items.\n",
        "\n",
        "However, tuples and lists have three main differences:\n",
        "\n",
        "1. Tuples are created using parenthesis — `(` and `)` — instead of\n",
        "  square brackets — `[` and `]`.  \n",
        "1. Tuples are *immutable*, which is a fancy computer science word\n",
        "  meaning that they can’t be changed or altered after they are created.  \n",
        "1. Tuples and multiple return values\n",
        "  from functions are tightly connected, as we will see in [functions](https://datascience.quantecon.org/functions.html).  "
      ]
    },
    {
      "cell_type": "code",
      "execution_count": null,
      "id": "7abcab76",
      "metadata": {
        "hide-output": false,
        "id": "7abcab76"
      },
      "outputs": [],
      "source": [
        "t = (1, \"hello\", 3.0)\n",
        "print(\"t is a\", type(t))\n",
        "t"
      ]
    },
    {
      "cell_type": "markdown",
      "id": "f40b7d5e",
      "metadata": {
        "id": "f40b7d5e"
      },
      "source": [
        "We can *convert* a list to a tuple by calling the `tuple` function on\n",
        "a list."
      ]
    },
    {
      "cell_type": "code",
      "execution_count": null,
      "id": "95000cbb",
      "metadata": {
        "hide-output": false,
        "id": "95000cbb"
      },
      "outputs": [],
      "source": [
        "print(\"x is a\", type(x))\n",
        "print(\"tuple(x) is a\", type(tuple(x)))\n",
        "tuple(x)"
      ]
    },
    {
      "cell_type": "markdown",
      "id": "ddecb644",
      "metadata": {
        "id": "ddecb644"
      },
      "source": [
        "We can also convert a tuple to a list using the list function."
      ]
    },
    {
      "cell_type": "code",
      "execution_count": null,
      "id": "a3435988",
      "metadata": {
        "hide-output": false,
        "id": "a3435988"
      },
      "outputs": [],
      "source": [
        "list(t)"
      ]
    },
    {
      "cell_type": "markdown",
      "id": "cba83baa",
      "metadata": {
        "id": "cba83baa"
      },
      "source": [
        "As with a list, we access items in a tuple `t` using `t[N]` where\n",
        "`N` is an int."
      ]
    },
    {
      "cell_type": "code",
      "execution_count": null,
      "id": "399112d1",
      "metadata": {
        "hide-output": false,
        "id": "399112d1"
      },
      "outputs": [],
      "source": [
        "t[0]  # still start counting at 0"
      ]
    },
    {
      "cell_type": "code",
      "execution_count": null,
      "id": "8da4f853",
      "metadata": {
        "hide-output": false,
        "id": "8da4f853"
      },
      "outputs": [],
      "source": [
        "t[2]"
      ]
    },
    {
      "cell_type": "markdown",
      "id": "b3ec993b",
      "metadata": {
        "id": "b3ec993b"
      },
      "source": [
        "### Exercise\n",
        "\n",
        "See exercise 3 in the [exercise list](#ex2-2).\n",
        "\n",
        "Tuples (and lists) can be unpacked directly into variables."
      ]
    },
    {
      "cell_type": "code",
      "execution_count": null,
      "id": "58a74aa2",
      "metadata": {
        "hide-output": false,
        "id": "58a74aa2"
      },
      "outputs": [],
      "source": [
        "x, y = (1, \"test\")\n",
        "print(f\"x = {x}, y = {y}\")"
      ]
    },
    {
      "cell_type": "markdown",
      "id": "66b88084",
      "metadata": {
        "id": "66b88084"
      },
      "source": [
        "This will be a convenient way to work with functions returning\n",
        "multiple values, as well as within [comprehensions and loops](https://datascience.quantecon.org/control_flow.html)."
      ]
    },
    {
      "cell_type": "markdown",
      "id": "45e05a6b",
      "metadata": {
        "id": "45e05a6b"
      },
      "source": [
        "### List vs Tuple: Which to Use?\n",
        "\n",
        "Should you use a list or tuple?\n",
        "\n",
        "This depends on what you are storing, whether you might need to reorder the elements,\n",
        "or whether you’d add\n",
        "new elements without a complete reinterpretation of the\n",
        "underlying data.\n",
        "\n",
        "For example, take data representing the GDP (in trillions) and population\n",
        "(in billions) for China in 2015."
      ]
    },
    {
      "cell_type": "code",
      "execution_count": 63,
      "id": "30e39ea3",
      "metadata": {
        "hide-output": false,
        "id": "30e39ea3",
        "outputId": "0dafef02-aaa3-42f6-a1a4-4954ea84ffeb",
        "colab": {
          "base_uri": "https://localhost:8080/"
        }
      },
      "outputs": [
        {
          "output_type": "stream",
          "name": "stdout",
          "text": [
            "('China', 2015, 11.06, 1.371)\n"
          ]
        }
      ],
      "source": [
        "china_data_2015 = (\"China\", 2015, 11.06, 1.371)\n",
        "\n",
        "print(china_data_2015)"
      ]
    },
    {
      "cell_type": "markdown",
      "id": "53257cb9",
      "metadata": {
        "id": "53257cb9"
      },
      "source": [
        "In this case, we have used a tuple since: (a) ordering would\n",
        "be meaningless; and (b) adding more data would require a\n",
        "reinterpretation of the whole data structure.\n",
        "\n",
        "On the other hand, consider a list of GDP in China between\n",
        "2013 and 2015."
      ]
    },
    {
      "cell_type": "code",
      "execution_count": 64,
      "id": "f2d130c8",
      "metadata": {
        "hide-output": false,
        "id": "f2d130c8",
        "outputId": "a1e67ea4-06dd-498e-d90c-a4b628bf939d",
        "colab": {
          "base_uri": "https://localhost:8080/"
        }
      },
      "outputs": [
        {
          "output_type": "stream",
          "name": "stdout",
          "text": [
            "[9.607, 10.48, 11.06]\n"
          ]
        }
      ],
      "source": [
        "gdp_data = [9.607, 10.48, 11.06]\n",
        "print(gdp_data)"
      ]
    },
    {
      "cell_type": "markdown",
      "id": "ebdbb10e",
      "metadata": {
        "id": "ebdbb10e"
      },
      "source": [
        "In this case, we have used a list, since adding on a new\n",
        "element to the end of the list for GDP in 2016 would make\n",
        "complete sense.\n",
        "\n",
        "Along these lines, collecting data on China for different\n",
        "years may make sense as a list of tuples (e.g. year, GDP,\n",
        "and population – although we will see better ways to store this sort of data\n",
        "in the [Pandas](https://datascience.quantecon.org/../pandas/index.html) section)."
      ]
    },
    {
      "cell_type": "code",
      "execution_count": 65,
      "id": "0b6ae324",
      "metadata": {
        "hide-output": false,
        "id": "0b6ae324",
        "outputId": "5c7f415e-7f9b-4752-dd24-e54d8c752ec9",
        "colab": {
          "base_uri": "https://localhost:8080/"
        }
      },
      "outputs": [
        {
          "output_type": "stream",
          "name": "stdout",
          "text": [
            "[(2015, 11.06, 1.371), (2014, 10.48, 1.364), (2013, 9.607, 1.357)]\n"
          ]
        }
      ],
      "source": [
        "china_data = [(2015, 11.06, 1.371), (2014, 10.48, 1.364), (2013, 9.607, 1.357)]\n",
        "print(china_data)"
      ]
    },
    {
      "cell_type": "markdown",
      "id": "d339eeda",
      "metadata": {
        "id": "d339eeda"
      },
      "source": [
        "In general, a rule of thumb is to use a list unless you *need* to use a tuple.\n",
        "\n",
        "Key criteria for tuple use are when you want to:\n",
        "\n",
        "- ensure the *order* of elements can’t change  \n",
        "- ensure the actual values of the elements can’t\n",
        "  change  \n",
        "- use the collection as a key in a dict (we will learn what this\n",
        "  means [soon](#dictionaries))  "
      ]
    },
    {
      "cell_type": "markdown",
      "id": "111678e4",
      "metadata": {
        "id": "111678e4"
      },
      "source": [
        "### `zip` and `enumerate`\n",
        "\n",
        "Two functions that can be extremely useful are `zip` and `enumerate`.\n",
        "\n",
        "Both of these functions are best understood by example, so let’s see\n",
        "them in action and then talk about what they do."
      ]
    },
    {
      "cell_type": "code",
      "execution_count": 66,
      "id": "48ce0a96",
      "metadata": {
        "hide-output": false,
        "id": "48ce0a96",
        "outputId": "fca8f974-0f67-4007-fce8-038e5c023c0b",
        "colab": {
          "base_uri": "https://localhost:8080/"
        }
      },
      "outputs": [
        {
          "output_type": "stream",
          "name": "stdout",
          "text": [
            "type(z) <class 'zip'>\n"
          ]
        }
      ],
      "source": [
        "gdp_data = [9.607, 10.48, 11.06]\n",
        "years = [2013, 2014, 2015]\n",
        "z = zip(years, gdp_data)\n",
        "print(\"type(z)\", type(z))"
      ]
    },
    {
      "cell_type": "markdown",
      "id": "118c3f43",
      "metadata": {
        "id": "118c3f43"
      },
      "source": [
        "To see what is inside `z`, let’s convert it to a list."
      ]
    },
    {
      "cell_type": "code",
      "execution_count": 67,
      "id": "8ed1c509",
      "metadata": {
        "hide-output": false,
        "id": "8ed1c509",
        "outputId": "58f3916d-64fa-4885-9bec-8656e264c3c6",
        "colab": {
          "base_uri": "https://localhost:8080/"
        }
      },
      "outputs": [
        {
          "output_type": "execute_result",
          "data": {
            "text/plain": [
              "[(2013, 9.607), (2014, 10.48), (2015, 11.06)]"
            ]
          },
          "metadata": {},
          "execution_count": 67
        }
      ],
      "source": [
        "list(z)"
      ]
    },
    {
      "cell_type": "markdown",
      "id": "33717691",
      "metadata": {
        "id": "33717691"
      },
      "source": [
        "Notice that we now have a list where each item is a tuple.\n",
        "\n",
        "Within each tuple, we have one item from each of the collections we\n",
        "passed to the zip function.\n",
        "\n",
        "In particular, the first item in `z` contains the first item from\n",
        "`[2013, 2014, 2015]` and the first item from `[9.607, 10.48, 11.06]`.\n",
        "\n",
        "The second item in `z` contains the second item from each collection\n",
        "and so on.\n",
        "\n",
        "We can access an element in this and then unpack the resulting\n",
        "tuple directly into variables."
      ]
    },
    {
      "cell_type": "code",
      "execution_count": 68,
      "id": "cca1c3d6",
      "metadata": {
        "hide-output": false,
        "id": "cca1c3d6",
        "outputId": "694dec08-b339-455d-d300-3eade46ecd29",
        "colab": {
          "base_uri": "https://localhost:8080/"
        }
      },
      "outputs": [
        {
          "output_type": "stream",
          "name": "stdout",
          "text": [
            "year = 2013, GDP = 9.607\n"
          ]
        }
      ],
      "source": [
        "l = list(zip(years, gdp_data))\n",
        "x, y = l[0]\n",
        "print(f\"year = {x}, GDP = {y}\")"
      ]
    },
    {
      "cell_type": "markdown",
      "id": "0a5a73ed",
      "metadata": {
        "id": "0a5a73ed"
      },
      "source": [
        "Now let’s experiment with `enumerate`."
      ]
    },
    {
      "cell_type": "code",
      "execution_count": 69,
      "id": "8affbe94",
      "metadata": {
        "hide-output": false,
        "id": "8affbe94",
        "outputId": "4f06bb71-8bb6-44d5-e261-04305b620c9d",
        "colab": {
          "base_uri": "https://localhost:8080/"
        }
      },
      "outputs": [
        {
          "output_type": "stream",
          "name": "stdout",
          "text": [
            "type(e) <class 'enumerate'>\n"
          ]
        },
        {
          "output_type": "execute_result",
          "data": {
            "text/plain": [
              "<enumerate at 0x7efcf1d45c00>"
            ]
          },
          "metadata": {},
          "execution_count": 69
        }
      ],
      "source": [
        "e = enumerate([\"a\", \"b\", \"c\"])\n",
        "print(\"type(e)\", type(e))\n",
        "e"
      ]
    },
    {
      "cell_type": "markdown",
      "id": "82c72178",
      "metadata": {
        "id": "82c72178"
      },
      "source": [
        "Again, we call `list(e)` to see what is inside."
      ]
    },
    {
      "cell_type": "code",
      "execution_count": 70,
      "id": "59049995",
      "metadata": {
        "hide-output": false,
        "id": "59049995",
        "outputId": "0d6264ff-0fa4-430e-f7ee-aadce3ac9d9d",
        "colab": {
          "base_uri": "https://localhost:8080/"
        }
      },
      "outputs": [
        {
          "output_type": "execute_result",
          "data": {
            "text/plain": [
              "[(0, 'a'), (1, 'b'), (2, 'c')]"
            ]
          },
          "metadata": {},
          "execution_count": 70
        }
      ],
      "source": [
        "list(e)"
      ]
    },
    {
      "cell_type": "markdown",
      "id": "aca9a202",
      "metadata": {
        "id": "aca9a202"
      },
      "source": [
        "We again have a list of tuples, but this time, the first element in each\n",
        "tuple is the *index* of the second tuple element in the initial\n",
        "collection.\n",
        "\n",
        "Notice that the third item is `(2, 'c')` because\n",
        "`[\"a\", \"b\", \"c\"][2]` is `'c'`"
      ]
    },
    {
      "cell_type": "markdown",
      "id": "5825f226",
      "metadata": {
        "id": "5825f226"
      },
      "source": [
        "### Exercise\n",
        "\n",
        "See exercise 4 in the [exercise list](#ex2-2).\n",
        "\n",
        "An important quirk of some iterable types that are not lists (such as the above `zip`) is that\n",
        "you cannot convert the same type to a list twice.\n",
        "\n",
        "This is because `zip`, `enumerate`, and `range` produce what is called a generator.\n",
        "\n",
        "A generator will only produce each of its elements a single time, so if you call `list` on the same\n",
        "generator a second time, it will not have any elements to iterate over anymore.\n",
        "\n",
        "For more information, refer to the [Python documentation](https://docs.python.org/3/howto/functional.html#generators)."
      ]
    },
    {
      "cell_type": "code",
      "execution_count": 71,
      "id": "81a88144",
      "metadata": {
        "hide-output": false,
        "id": "81a88144",
        "outputId": "52542b61-85ce-4652-aee5-2268b06f009a",
        "colab": {
          "base_uri": "https://localhost:8080/"
        }
      },
      "outputs": [
        {
          "output_type": "stream",
          "name": "stdout",
          "text": [
            "[(2013, 9.607), (2014, 10.48), (2015, 11.06)]\n",
            "[]\n"
          ]
        }
      ],
      "source": [
        "gdp_data = [9.607, 10.48, 11.06]\n",
        "years = [2013, 2014, 2015]\n",
        "z = zip(years, gdp_data)\n",
        "l = list(z)\n",
        "print(l)\n",
        "m = list(z)\n",
        "print(m)"
      ]
    },
    {
      "cell_type": "markdown",
      "id": "404ab851",
      "metadata": {
        "id": "404ab851"
      },
      "source": [
        "## Associative Collections\n",
        "\n",
        "\n",
        "<a id='dictionaries'></a>"
      ]
    },
    {
      "cell_type": "markdown",
      "id": "8a053fb2",
      "metadata": {
        "id": "8a053fb2"
      },
      "source": [
        "### Dictionaries\n",
        "\n",
        "A dictionary (or dict) associates `key`s with `value`s.\n",
        "\n",
        "It will feel similar to a dictionary for words, where the keys are words and\n",
        "the values are the associated definitions.\n",
        "\n",
        "The most common way to create a `dict` is to use curly braces — `{`\n",
        "and `}` — like this:"
      ]
    },
    {
      "cell_type": "code",
      "execution_count": 72,
      "id": "b64b47b5",
      "metadata": {
        "hide-output": false,
        "id": "b64b47b5",
        "outputId": "71987f2d-5987-455b-84f2-73966039ad0a",
        "colab": {
          "base_uri": "https://localhost:8080/",
          "height": 106
        }
      },
      "outputs": [
        {
          "output_type": "error",
          "ename": "SyntaxError",
          "evalue": "':' expected after dictionary key (<ipython-input-72-bcdcde0953a6>, line 1)",
          "traceback": [
            "\u001b[0;36m  File \u001b[0;32m\"<ipython-input-72-bcdcde0953a6>\"\u001b[0;36m, line \u001b[0;32m1\u001b[0m\n\u001b[0;31m    {\"key1\": value1, \"key2\": value2, ..., \"keyN\": valueN}\u001b[0m\n\u001b[0m                                       ^\u001b[0m\n\u001b[0;31mSyntaxError\u001b[0m\u001b[0;31m:\u001b[0m ':' expected after dictionary key\n"
          ]
        }
      ],
      "source": [
        "{\"key1\": value1, \"key2\": value2, ..., \"keyN\": valueN}"
      ]
    },
    {
      "cell_type": "markdown",
      "id": "afeafbed",
      "metadata": {
        "id": "afeafbed"
      },
      "source": [
        "where the `...` indicates that we can have any number of additional\n",
        "terms.\n",
        "\n",
        "The crucial part of the syntax is that each key-value pair is written\n",
        "`key: value` and that these pairs are separated by commas — `,`.\n",
        "\n",
        "Let’s see an example using our aggregate data on China in 2015."
      ]
    },
    {
      "cell_type": "code",
      "execution_count": 73,
      "id": "92fe88c6",
      "metadata": {
        "hide-output": false,
        "id": "92fe88c6",
        "outputId": "ba08069a-5328-4330-e9dc-a947280d768d",
        "colab": {
          "base_uri": "https://localhost:8080/"
        }
      },
      "outputs": [
        {
          "output_type": "stream",
          "name": "stdout",
          "text": [
            "{'country': 'China', 'year': 2015, 'GDP': 11.06, 'population': 1.371}\n"
          ]
        }
      ],
      "source": [
        "china_data = {\"country\": \"China\", \"year\": 2015, \"GDP\" : 11.06, \"population\": 1.371}\n",
        "print(china_data)"
      ]
    },
    {
      "cell_type": "markdown",
      "id": "66ebfae5",
      "metadata": {
        "id": "66ebfae5"
      },
      "source": [
        "Unlike our above example using a `tuple`, a `dict` allows us to\n",
        "associate a name with each field, rather than having to remember the\n",
        "order within the tuple.\n",
        "\n",
        "Often, code that makes a dict is easier to read if we put each\n",
        "`key: value` pair on its own line. (Recall our earlier comment on\n",
        "using whitespace effectively to improve readability!)\n",
        "\n",
        "The code below is equivalent to what we saw above."
      ]
    },
    {
      "cell_type": "code",
      "execution_count": 74,
      "id": "3e692c01",
      "metadata": {
        "hide-output": false,
        "id": "3e692c01"
      },
      "outputs": [],
      "source": [
        "china_data = {\n",
        "    \"country\": \"China\",\n",
        "    \"year\": 2015,\n",
        "    \"GDP\" : 11.06,\n",
        "    \"population\": 1.371\n",
        "}"
      ]
    },
    {
      "cell_type": "markdown",
      "id": "483dce7f",
      "metadata": {
        "id": "483dce7f"
      },
      "source": [
        "Most often, the keys (e.g. “country”, “year”, “GDP”, and “population”)\n",
        "will be strings, but we could also use numbers (`int`, or\n",
        "`float`) or even tuples (or, rarely, a combination of types).\n",
        "\n",
        "The values can be **any** type and different from each other."
      ]
    },
    {
      "cell_type": "markdown",
      "id": "7f412bff",
      "metadata": {
        "id": "7f412bff"
      },
      "source": [
        "### Exercise\n",
        "\n",
        "See exercise 5 in the [exercise list](#ex2-2).\n",
        "\n",
        "This next example is meant to emphasize how values can be\n",
        "*anything* – including another dictionary."
      ]
    },
    {
      "cell_type": "code",
      "execution_count": 75,
      "id": "8d8816f8",
      "metadata": {
        "hide-output": false,
        "id": "8d8816f8",
        "outputId": "fe0ab941-f226-4f5c-ff7f-06ee682ba320",
        "colab": {
          "base_uri": "https://localhost:8080/"
        }
      },
      "outputs": [
        {
          "output_type": "stream",
          "name": "stdout",
          "text": [
            "{'AAPL': {'bid': 175.96, 'ask': 175.98}, 'GE': {'bid': 1047.03, 'ask': 1048.4}, 'TVIX': {'bid': 8.38, 'ask': 8.4}}\n"
          ]
        }
      ],
      "source": [
        "companies = {\"AAPL\": {\"bid\": 175.96, \"ask\": 175.98},\n",
        "             \"GE\": {\"bid\": 1047.03, \"ask\": 1048.40},\n",
        "             \"TVIX\": {\"bid\": 8.38, \"ask\": 8.40}}\n",
        "print(companies)"
      ]
    },
    {
      "cell_type": "markdown",
      "id": "822b9543",
      "metadata": {
        "id": "822b9543"
      },
      "source": [
        "#### Getting, Setting, and Updating dict Items\n",
        "\n",
        "We can now ask Python to tell us the value for a particular key by using\n",
        "the syntax `d[k]`,  where `d` is our `dict` and `k` is the key for which we want to\n",
        "find the value.\n",
        "\n",
        "For example,"
      ]
    },
    {
      "cell_type": "code",
      "execution_count": 76,
      "id": "03c86925",
      "metadata": {
        "hide-output": false,
        "id": "03c86925",
        "outputId": "58bef6ec-a139-41ec-cad3-d502f95a9108",
        "colab": {
          "base_uri": "https://localhost:8080/"
        }
      },
      "outputs": [
        {
          "output_type": "stream",
          "name": "stdout",
          "text": [
            "2015\n",
            "country = China, population = 1.371\n"
          ]
        }
      ],
      "source": [
        "print(china_data[\"year\"])\n",
        "print(f\"country = {china_data['country']}, population = {china_data['population']}\")"
      ]
    },
    {
      "cell_type": "markdown",
      "id": "adb34a22",
      "metadata": {
        "id": "adb34a22"
      },
      "source": [
        "Note: when inside of a formatting string, you can use `'` instead of `\"` as above\n",
        "to ensure the formatting still works with the embedded code.\n",
        "\n",
        "If we ask for the value of a key that is not in the dict, we will get an error."
      ]
    },
    {
      "cell_type": "code",
      "execution_count": 77,
      "id": "abb10815",
      "metadata": {
        "hide-output": false,
        "id": "abb10815"
      },
      "outputs": [],
      "source": [
        "# uncomment the line below to see the error\n",
        "# china_data[\"inflation\"]"
      ]
    },
    {
      "cell_type": "markdown",
      "id": "76741e32",
      "metadata": {
        "id": "76741e32"
      },
      "source": [
        "We can also add new items to a dict using the syntax `d[new_key] = new_value`.\n",
        "\n",
        "Let’s see some examples."
      ]
    },
    {
      "cell_type": "code",
      "execution_count": 78,
      "id": "2a5dcbf3",
      "metadata": {
        "hide-output": false,
        "id": "2a5dcbf3",
        "outputId": "08932e1e-ca20-4931-bcae-bd8d1c08b022",
        "colab": {
          "base_uri": "https://localhost:8080/"
        }
      },
      "outputs": [
        {
          "output_type": "stream",
          "name": "stdout",
          "text": [
            "{'country': 'China', 'year': 2015, 'GDP': 11.06, 'population': 1.371}\n",
            "{'country': 'China', 'year': 2015, 'GDP': 11.06, 'population': 1.371, 'unemployment': '4.05%'}\n"
          ]
        }
      ],
      "source": [
        "print(china_data)\n",
        "china_data[\"unemployment\"] = \"4.05%\"\n",
        "print(china_data)"
      ]
    },
    {
      "cell_type": "markdown",
      "id": "c0f29b27",
      "metadata": {
        "id": "c0f29b27"
      },
      "source": [
        "To update the value, we use assignment in the same way (which will\n",
        "create the key and value as required)."
      ]
    },
    {
      "cell_type": "code",
      "execution_count": 79,
      "id": "8eb829f9",
      "metadata": {
        "hide-output": false,
        "id": "8eb829f9",
        "outputId": "29d70dfd-5a1e-4df1-c2a3-249a5ad59e9a",
        "colab": {
          "base_uri": "https://localhost:8080/"
        }
      },
      "outputs": [
        {
          "output_type": "stream",
          "name": "stdout",
          "text": [
            "{'country': 'China', 'year': 2015, 'GDP': 11.06, 'population': 1.371, 'unemployment': '4.05%'}\n",
            "{'country': 'China', 'year': 2015, 'GDP': 11.06, 'population': 1.371, 'unemployment': '4.051%'}\n"
          ]
        }
      ],
      "source": [
        "print(china_data)\n",
        "china_data[\"unemployment\"] = \"4.051%\"\n",
        "print(china_data)"
      ]
    },
    {
      "cell_type": "markdown",
      "id": "3b759566",
      "metadata": {
        "id": "3b759566"
      },
      "source": [
        "Or we could change the type."
      ]
    },
    {
      "cell_type": "code",
      "execution_count": 80,
      "id": "53cacc38",
      "metadata": {
        "hide-output": false,
        "id": "53cacc38",
        "outputId": "b6f7e15d-c54d-4595-a043-e4e1e2048e9a",
        "colab": {
          "base_uri": "https://localhost:8080/"
        }
      },
      "outputs": [
        {
          "output_type": "stream",
          "name": "stdout",
          "text": [
            "{'country': 'China', 'year': 2015, 'GDP': 11.06, 'population': 1.371, 'unemployment': 4.051}\n"
          ]
        }
      ],
      "source": [
        "china_data[\"unemployment\"] = 4.051\n",
        "print(china_data)"
      ]
    },
    {
      "cell_type": "markdown",
      "id": "de4542db",
      "metadata": {
        "id": "de4542db"
      },
      "source": [
        "#### Exercise\n",
        "\n",
        "See exercise 6 in the [exercise list](#ex2-2)."
      ]
    },
    {
      "cell_type": "markdown",
      "id": "b15433ef",
      "metadata": {
        "id": "b15433ef"
      },
      "source": [
        "#### Common `dict` Functionality\n",
        "\n",
        "We can do some common things with dicts.\n",
        "\n",
        "We will demonstrate them with examples below."
      ]
    },
    {
      "cell_type": "code",
      "execution_count": 81,
      "id": "a2c9f33b",
      "metadata": {
        "hide-output": false,
        "id": "a2c9f33b",
        "outputId": "01c4d4e0-2eb9-4dae-887a-b8bb88a126f8",
        "colab": {
          "base_uri": "https://localhost:8080/"
        }
      },
      "outputs": [
        {
          "output_type": "execute_result",
          "data": {
            "text/plain": [
              "5"
            ]
          },
          "metadata": {},
          "execution_count": 81
        }
      ],
      "source": [
        "# number of key-value pairs in a dict\n",
        "len(china_data)"
      ]
    },
    {
      "cell_type": "code",
      "execution_count": 82,
      "id": "be08d9df",
      "metadata": {
        "hide-output": false,
        "id": "be08d9df",
        "outputId": "643bf95b-c93a-41ee-fe31-dccde245fa55",
        "colab": {
          "base_uri": "https://localhost:8080/"
        }
      },
      "outputs": [
        {
          "output_type": "execute_result",
          "data": {
            "text/plain": [
              "['country', 'year', 'GDP', 'population', 'unemployment']"
            ]
          },
          "metadata": {},
          "execution_count": 82
        }
      ],
      "source": [
        "# get a list of all the keys\n",
        "list(china_data.keys())"
      ]
    },
    {
      "cell_type": "code",
      "execution_count": 83,
      "id": "e82f9b6c",
      "metadata": {
        "hide-output": false,
        "id": "e82f9b6c",
        "outputId": "f00b9503-a2ac-41d6-d151-01a44d8ee453",
        "colab": {
          "base_uri": "https://localhost:8080/"
        }
      },
      "outputs": [
        {
          "output_type": "execute_result",
          "data": {
            "text/plain": [
              "['China', 2015, 11.06, 1.371, 4.051]"
            ]
          },
          "metadata": {},
          "execution_count": 83
        }
      ],
      "source": [
        "# get a list of all the values\n",
        "list(china_data.values())"
      ]
    },
    {
      "cell_type": "code",
      "execution_count": 84,
      "id": "8a8d880e",
      "metadata": {
        "hide-output": false,
        "id": "8a8d880e",
        "outputId": "eceed651-a7bf-4632-ed98-2082f93bfabb",
        "colab": {
          "base_uri": "https://localhost:8080/"
        }
      },
      "outputs": [
        {
          "output_type": "execute_result",
          "data": {
            "text/plain": [
              "{'country': 'China',\n",
              " 'year': 2015,\n",
              " 'GDP': 11.06,\n",
              " 'population': 1.371,\n",
              " 'unemployment': 4.051,\n",
              " 'irrigated_land': 690070,\n",
              " 'top_religions': {'buddhist': 18.2, 'christian': 5.1, 'muslim': 1.8}}"
            ]
          },
          "metadata": {},
          "execution_count": 84
        }
      ],
      "source": [
        "more_china_data = {\"irrigated_land\": 690_070, \"top_religions\": {\"buddhist\": 18.2, \"christian\" : 5.1, \"muslim\": 1.8}}\n",
        "\n",
        "# Add all key-value pairs in mydict2 to mydict.\n",
        "# if the key already appears in mydict, overwrite the\n",
        "# value with the value in mydict2\n",
        "china_data.update(more_china_data)\n",
        "china_data"
      ]
    },
    {
      "cell_type": "code",
      "execution_count": 85,
      "id": "02fc567a",
      "metadata": {
        "hide-output": false,
        "id": "02fc567a",
        "outputId": "aeeaf7b8-591e-4b28-81bd-67163acf8222",
        "colab": {
          "base_uri": "https://localhost:8080/"
        }
      },
      "outputs": [
        {
          "output_type": "execute_result",
          "data": {
            "text/plain": [
              "690070"
            ]
          },
          "metadata": {},
          "execution_count": 85
        }
      ],
      "source": [
        "# Get the value associated with a key or return a default value\n",
        "# use this to avoid the NameError we saw above if you have a reasonable\n",
        "# default value\n",
        "china_data.get(\"irrigated_land\", \"Data Not Available\")"
      ]
    },
    {
      "cell_type": "code",
      "execution_count": 86,
      "id": "1558d4df",
      "metadata": {
        "hide-output": false,
        "id": "1558d4df",
        "outputId": "60f6a0a7-4640-4d2d-b13a-c116d30237f0",
        "colab": {
          "base_uri": "https://localhost:8080/",
          "height": 35
        }
      },
      "outputs": [
        {
          "output_type": "execute_result",
          "data": {
            "text/plain": [
              "'Data Not Available'"
            ],
            "application/vnd.google.colaboratory.intrinsic+json": {
              "type": "string"
            }
          },
          "metadata": {},
          "execution_count": 86
        }
      ],
      "source": [
        "china_data.get(\"death_rate\", \"Data Not Available\")"
      ]
    },
    {
      "cell_type": "markdown",
      "id": "1fffed26",
      "metadata": {
        "id": "1fffed26"
      },
      "source": [
        "#### Exercise\n",
        "\n",
        "See exercise 7 in the [exercise list](#ex2-2)."
      ]
    },
    {
      "cell_type": "markdown",
      "id": "23ff9e90",
      "metadata": {
        "id": "23ff9e90"
      },
      "source": [
        "#### Exercise\n",
        "\n",
        "See exercise 8 in the [exercise list](#ex2-2)."
      ]
    },
    {
      "cell_type": "markdown",
      "id": "a92cb1b6",
      "metadata": {
        "id": "a92cb1b6"
      },
      "source": [
        "### Sets (Optional)\n",
        "\n",
        "Python has an additional way to represent collections of items: sets.\n",
        "\n",
        "Sets come up infrequently, but you should be aware of them.\n",
        "\n",
        "If you are familiar with the mathematical concept of sets, then you will\n",
        "understand the majority of Python sets already.\n",
        "\n",
        "If you don’t know the math behind sets, don’t worry: we’ll cover the\n",
        "basics of Python’s sets here.\n",
        "\n",
        "A set is an *unordered* collection of *unique* elements.\n",
        "\n",
        "The syntax for creating a set uses curly bracket `{` and `}`."
      ]
    },
    {
      "cell_type": "code",
      "execution_count": 87,
      "id": "dd9d19ef",
      "metadata": {
        "hide-output": false,
        "id": "dd9d19ef",
        "outputId": "c135bbd6-4dbc-413e-9877-692d0c262c4f",
        "colab": {
          "base_uri": "https://localhost:8080/",
          "height": 141
        }
      },
      "outputs": [
        {
          "output_type": "error",
          "ename": "NameError",
          "evalue": "name 'item1' is not defined",
          "traceback": [
            "\u001b[0;31m---------------------------------------------------------------------------\u001b[0m",
            "\u001b[0;31mNameError\u001b[0m                                 Traceback (most recent call last)",
            "\u001b[0;32m<ipython-input-87-9441d95e129c>\u001b[0m in \u001b[0;36m<cell line: 1>\u001b[0;34m()\u001b[0m\n\u001b[0;32m----> 1\u001b[0;31m \u001b[0;34m{\u001b[0m\u001b[0mitem1\u001b[0m\u001b[0;34m,\u001b[0m \u001b[0mitem2\u001b[0m\u001b[0;34m,\u001b[0m \u001b[0;34m...\u001b[0m\u001b[0;34m,\u001b[0m \u001b[0mitemN\u001b[0m\u001b[0;34m}\u001b[0m\u001b[0;34m\u001b[0m\u001b[0;34m\u001b[0m\u001b[0m\n\u001b[0m",
            "\u001b[0;31mNameError\u001b[0m: name 'item1' is not defined"
          ]
        }
      ],
      "source": [
        "{item1, item2, ..., itemN}"
      ]
    },
    {
      "cell_type": "markdown",
      "id": "7a96e5a0",
      "metadata": {
        "id": "7a96e5a0"
      },
      "source": [
        "Here is an example."
      ]
    },
    {
      "cell_type": "code",
      "execution_count": 88,
      "id": "515dd3f3",
      "metadata": {
        "hide-output": false,
        "id": "515dd3f3",
        "outputId": "f10f1f10-46e7-4433-d1e5-7d46bd3e6623",
        "colab": {
          "base_uri": "https://localhost:8080/"
        }
      },
      "outputs": [
        {
          "output_type": "stream",
          "name": "stdout",
          "text": [
            "s has type <class 'set'>\n"
          ]
        },
        {
          "output_type": "execute_result",
          "data": {
            "text/plain": [
              "{1, 3.0, 'hello'}"
            ]
          },
          "metadata": {},
          "execution_count": 88
        }
      ],
      "source": [
        "s = {1, \"hello\", 3.0}\n",
        "print(\"s has type\", type(s))\n",
        "s"
      ]
    },
    {
      "cell_type": "markdown",
      "id": "65611e7a",
      "metadata": {
        "id": "65611e7a"
      },
      "source": [
        "### Exercise\n",
        "\n",
        "See exercise 9 in the [exercise list](#ex2-2).\n",
        "\n",
        "As with lists and tuples, we can check if something is `in` the set\n",
        "and check the set’s length:"
      ]
    },
    {
      "cell_type": "code",
      "execution_count": 89,
      "id": "e96951f0",
      "metadata": {
        "hide-output": false,
        "id": "e96951f0",
        "outputId": "fd2a0946-1a1f-4731-a62b-7e30ccfdba58",
        "colab": {
          "base_uri": "https://localhost:8080/"
        }
      },
      "outputs": [
        {
          "output_type": "stream",
          "name": "stdout",
          "text": [
            "len(s) = 3\n"
          ]
        },
        {
          "output_type": "execute_result",
          "data": {
            "text/plain": [
              "True"
            ]
          },
          "metadata": {},
          "execution_count": 89
        }
      ],
      "source": [
        "print(\"len(s) =\", len(s))\n",
        "\"hello\" in s"
      ]
    },
    {
      "cell_type": "markdown",
      "id": "d88f9b9d",
      "metadata": {
        "id": "d88f9b9d"
      },
      "source": [
        "Unlike lists and tuples, we can’t extract elements of a set `s` using\n",
        "`s[N]` where `N` is a number."
      ]
    },
    {
      "cell_type": "code",
      "execution_count": 90,
      "id": "3cab6c5c",
      "metadata": {
        "hide-output": false,
        "id": "3cab6c5c"
      },
      "outputs": [],
      "source": [
        "# Uncomment the line below to see what happens\n",
        "# s[1]"
      ]
    },
    {
      "cell_type": "markdown",
      "id": "8a2d3e06",
      "metadata": {
        "id": "8a2d3e06"
      },
      "source": [
        "This is because sets are not ordered, so the notion of getting the\n",
        "second element (`s[1]`) is not well defined.\n",
        "\n",
        "We add elements to a set `s` using `s.add`."
      ]
    },
    {
      "cell_type": "code",
      "execution_count": null,
      "id": "51fb92f9",
      "metadata": {
        "hide-output": false,
        "id": "51fb92f9"
      },
      "outputs": [],
      "source": [
        "s.add(100)\n",
        "s"
      ]
    },
    {
      "cell_type": "code",
      "execution_count": null,
      "id": "44e33cb5",
      "metadata": {
        "hide-output": false,
        "id": "44e33cb5"
      },
      "outputs": [],
      "source": [
        "s.add(\"hello\") # nothing happens, why?\n",
        "s"
      ]
    },
    {
      "cell_type": "markdown",
      "id": "2ca70d81",
      "metadata": {
        "id": "2ca70d81"
      },
      "source": [
        "We can also do set operations.\n",
        "\n",
        "Consider the set `s` from above and the set\n",
        "`s2 = {\"hello\", \"world\"}`.\n",
        "\n",
        "- `s.union(s2)`: returns a set with all elements in either `s` or\n",
        "  `s2`  \n",
        "- `s.intersection(s2)`: returns a set with all elements in both `s`\n",
        "  and `s2`  \n",
        "- `s.difference(s2)`: returns a set with all elements in `s` that\n",
        "  aren’t in `s2`  \n",
        "- `s.symmetric_difference(s2)`: returns a set with all elements in\n",
        "  only one of `s` and `s2`  "
      ]
    },
    {
      "cell_type": "markdown",
      "id": "6d8293d7",
      "metadata": {
        "id": "6d8293d7"
      },
      "source": [
        "### Exercise\n",
        "\n",
        "See exercise 10 in the [exercise list](#ex2-2).\n",
        "\n",
        "As with tuples and lists, a `set` function can convert other\n",
        "collections to sets."
      ]
    },
    {
      "cell_type": "code",
      "execution_count": null,
      "id": "3b7dd1dd",
      "metadata": {
        "hide-output": false,
        "id": "3b7dd1dd"
      },
      "outputs": [],
      "source": [
        "x = [1, 2, 3, 1]\n",
        "set(x)"
      ]
    },
    {
      "cell_type": "code",
      "execution_count": null,
      "id": "c07aab39",
      "metadata": {
        "hide-output": false,
        "id": "c07aab39"
      },
      "outputs": [],
      "source": [
        "t = (1, 2, 3, 1)\n",
        "set(t)"
      ]
    },
    {
      "cell_type": "markdown",
      "id": "2584eff7",
      "metadata": {
        "id": "2584eff7"
      },
      "source": [
        "Likewise, we can convert sets to lists and tuples."
      ]
    },
    {
      "cell_type": "code",
      "execution_count": null,
      "id": "4cbb69e2",
      "metadata": {
        "hide-output": false,
        "id": "4cbb69e2"
      },
      "outputs": [],
      "source": [
        "list(s)"
      ]
    },
    {
      "cell_type": "code",
      "execution_count": null,
      "id": "e73aba85",
      "metadata": {
        "hide-output": false,
        "id": "e73aba85"
      },
      "outputs": [],
      "source": [
        "tuple(s)"
      ]
    },
    {
      "cell_type": "markdown",
      "id": "574a4cd0",
      "metadata": {
        "id": "574a4cd0"
      },
      "source": [
        "\n",
        "<a id='ex2-2'></a>"
      ]
    },
    {
      "cell_type": "markdown",
      "id": "17b764a0",
      "metadata": {
        "id": "17b764a0"
      },
      "source": [
        "## Exercises"
      ]
    },
    {
      "cell_type": "markdown",
      "id": "73d7fb8e",
      "metadata": {
        "id": "73d7fb8e"
      },
      "source": [
        "### Exercise 1\n",
        "\n",
        "In the first cell, try `y.append(z)`.\n",
        "\n",
        "In the second cell try `y.extend(z)`.\n",
        "\n",
        "Explain the behavior.\n",
        "\n",
        "When you are trying to explain use `y.append?` and `y.extend?` to\n",
        "see a description of what these methods are supposed to do."
      ]
    },
    {
      "cell_type": "code",
      "execution_count": 1,
      "id": "86b8bc1c",
      "metadata": {
        "hide-output": false,
        "id": "86b8bc1c",
        "outputId": "dccaf407-36f3-48b3-b4a9-e5a07ea9fa48",
        "colab": {
          "base_uri": "https://localhost:8080/"
        }
      },
      "outputs": [
        {
          "output_type": "stream",
          "name": "stdout",
          "text": [
            "['a', 'b', 'c']\n"
          ]
        }
      ],
      "source": [
        "y = [\"a\", \"b\", \"c\"]\n",
        "z = [1, 2, 3]\n",
        "# your code here\n",
        "print(y)"
      ]
    },
    {
      "cell_type": "markdown",
      "source": [
        "## Answer"
      ],
      "metadata": {
        "id": "CyZGLGSo7s46"
      },
      "id": "CyZGLGSo7s46"
    },
    {
      "cell_type": "code",
      "source": [
        "y.append(z)\n",
        "y"
      ],
      "metadata": {
        "id": "3qnBPvn97vqn"
      },
      "id": "3qnBPvn97vqn",
      "execution_count": 2,
      "outputs": []
    },
    {
      "cell_type": "code",
      "execution_count": 4,
      "id": "95f8d9a7",
      "metadata": {
        "hide-output": false,
        "id": "95f8d9a7",
        "outputId": "3039e349-340b-41b4-9c37-602122f972d3",
        "colab": {
          "base_uri": "https://localhost:8080/"
        }
      },
      "outputs": [
        {
          "output_type": "stream",
          "name": "stdout",
          "text": [
            "['a', 'b', 'c']\n"
          ]
        }
      ],
      "source": [
        "y = [\"a\", \"b\", \"c\"]\n",
        "z = [1, 2, 3]\n",
        "# your code here\n",
        "print(y)"
      ]
    },
    {
      "cell_type": "markdown",
      "source": [
        "### Answer"
      ],
      "metadata": {
        "id": "c1wbfH2E8Eup"
      },
      "id": "c1wbfH2E8Eup"
    },
    {
      "cell_type": "code",
      "source": [
        "y.extend(z)\n",
        "y"
      ],
      "metadata": {
        "id": "Vp1HuzAb8Di3",
        "outputId": "8b2cb7b0-9a90-40a6-e6c0-4cd1ce1dbfb3",
        "colab": {
          "base_uri": "https://localhost:8080/"
        }
      },
      "id": "Vp1HuzAb8Di3",
      "execution_count": 5,
      "outputs": [
        {
          "output_type": "execute_result",
          "data": {
            "text/plain": [
              "['a', 'b', 'c', 1, 2, 3]"
            ]
          },
          "metadata": {},
          "execution_count": 5
        }
      ]
    },
    {
      "cell_type": "markdown",
      "id": "18d793f5",
      "metadata": {
        "id": "18d793f5"
      },
      "source": [
        "([back to text](#dir2-2-1))"
      ]
    },
    {
      "cell_type": "markdown",
      "id": "94fb03f4",
      "metadata": {
        "id": "94fb03f4"
      },
      "source": [
        "### Exercise 2\n",
        "\n",
        "Experiment with the other two versions of the `range` function."
      ]
    },
    {
      "cell_type": "code",
      "execution_count": null,
      "id": "a2d1c760",
      "metadata": {
        "hide-output": false,
        "id": "a2d1c760"
      },
      "outputs": [],
      "source": [
        "# try list(range(a, N)) -- you pick `a` and `N`"
      ]
    },
    {
      "cell_type": "code",
      "execution_count": null,
      "id": "0c35ec66",
      "metadata": {
        "hide-output": false,
        "id": "0c35ec66"
      },
      "outputs": [],
      "source": [
        "# try list(range(a, N, d)) -- you pick `a`, `N`, and `d`"
      ]
    },
    {
      "cell_type": "markdown",
      "source": [
        "## Answer"
      ],
      "metadata": {
        "id": "ZZBVdwxyBFHJ"
      },
      "id": "ZZBVdwxyBFHJ"
    },
    {
      "cell_type": "code",
      "source": [
        "r = range(2, 11)\n",
        "print(r)\n",
        "list(range(2, 11))"
      ],
      "metadata": {
        "id": "BHw44fFtBGw1",
        "outputId": "bfc63fa3-5663-4219-f717-0bf3a1dddbf1",
        "colab": {
          "base_uri": "https://localhost:8080/"
        }
      },
      "id": "BHw44fFtBGw1",
      "execution_count": 22,
      "outputs": [
        {
          "output_type": "stream",
          "name": "stdout",
          "text": [
            "range(2, 11)\n"
          ]
        },
        {
          "output_type": "execute_result",
          "data": {
            "text/plain": [
              "[2, 3, 4, 5, 6, 7, 8, 9, 10]"
            ]
          },
          "metadata": {},
          "execution_count": 22
        }
      ]
    },
    {
      "cell_type": "code",
      "source": [
        "r = range(1,22, 3)\n",
        "print(list(r))\n",
        "r"
      ],
      "metadata": {
        "id": "K-W40-P0Bdqs",
        "outputId": "720d5feb-a660-481b-9e99-a63f413f9802",
        "colab": {
          "base_uri": "https://localhost:8080/"
        }
      },
      "id": "K-W40-P0Bdqs",
      "execution_count": 24,
      "outputs": [
        {
          "output_type": "stream",
          "name": "stdout",
          "text": [
            "[1, 4, 7, 10, 13, 16, 19]\n"
          ]
        },
        {
          "output_type": "execute_result",
          "data": {
            "text/plain": [
              "range(1, 22, 3)"
            ]
          },
          "metadata": {},
          "execution_count": 24
        }
      ]
    },
    {
      "cell_type": "markdown",
      "id": "95d4b66d",
      "metadata": {
        "id": "95d4b66d"
      },
      "source": [
        "([back to text](#dir2-2-2))"
      ]
    },
    {
      "cell_type": "markdown",
      "id": "b353f68a",
      "metadata": {
        "id": "b353f68a"
      },
      "source": [
        "### Exercise 3\n",
        "\n",
        "Verify that tuples are indeed immutable by attempting the following:\n",
        "\n",
        "- Changing the first element of `t` to be `100`  \n",
        "- Appending a new element `\"!!\"` to the end of `t` (remember with a\n",
        "  list `x` we would use `x.append(\"!!\")` to do this  \n",
        "- Sorting `t`  \n",
        "- Reversing `t`  "
      ]
    },
    {
      "cell_type": "code",
      "source": [
        "t = (1, 35, 3.0)\n",
        "t = list(t)\n",
        "t"
      ],
      "metadata": {
        "id": "S7sCQ0buDMk7",
        "outputId": "62db2ac0-7389-404f-f5d5-76b98b79a4f2",
        "colab": {
          "base_uri": "https://localhost:8080/"
        }
      },
      "id": "S7sCQ0buDMk7",
      "execution_count": 35,
      "outputs": [
        {
          "output_type": "execute_result",
          "data": {
            "text/plain": [
              "[1, 35, 3.0]"
            ]
          },
          "metadata": {},
          "execution_count": 35
        }
      ]
    },
    {
      "cell_type": "code",
      "execution_count": 36,
      "id": "246a6f67",
      "metadata": {
        "hide-output": false,
        "id": "246a6f67",
        "outputId": "ca669f86-aff0-4032-a8a5-39fb9edbd84a",
        "colab": {
          "base_uri": "https://localhost:8080/"
        }
      },
      "outputs": [
        {
          "output_type": "execute_result",
          "data": {
            "text/plain": [
              "[100, 35, 3.0]"
            ]
          },
          "metadata": {},
          "execution_count": 36
        }
      ],
      "source": [
        "# change first element of t\n",
        "t[0] = 100\n",
        "t"
      ]
    },
    {
      "cell_type": "code",
      "execution_count": 39,
      "id": "07c6280e",
      "metadata": {
        "hide-output": false,
        "id": "07c6280e",
        "outputId": "e9b94c72-c358-446f-cffe-2952e8087363",
        "colab": {
          "base_uri": "https://localhost:8080/"
        }
      },
      "outputs": [
        {
          "output_type": "execute_result",
          "data": {
            "text/plain": [
              "[100, 35, 3.0, 100, 100]"
            ]
          },
          "metadata": {},
          "execution_count": 39
        }
      ],
      "source": [
        "# appending to t\n",
        "t.append(100)\n",
        "t"
      ]
    },
    {
      "cell_type": "code",
      "execution_count": 44,
      "id": "ac6cb996",
      "metadata": {
        "hide-output": false,
        "id": "ac6cb996",
        "outputId": "a26f6dca-ded9-4838-84ce-7202d5386d27",
        "colab": {
          "base_uri": "https://localhost:8080/"
        }
      },
      "outputs": [
        {
          "output_type": "execute_result",
          "data": {
            "text/plain": [
              "[3.0, 35, 100, 100, 100]"
            ]
          },
          "metadata": {},
          "execution_count": 44
        }
      ],
      "source": [
        "# sorting t\n",
        "t.sort()\n",
        "t"
      ]
    },
    {
      "cell_type": "code",
      "execution_count": 45,
      "id": "f14abf57",
      "metadata": {
        "hide-output": false,
        "id": "f14abf57",
        "outputId": "b95c1a45-0564-47ec-8512-f6c38948d237",
        "colab": {
          "base_uri": "https://localhost:8080/"
        }
      },
      "outputs": [
        {
          "output_type": "execute_result",
          "data": {
            "text/plain": [
              "[100, 100, 100, 35, 3.0]"
            ]
          },
          "metadata": {},
          "execution_count": 45
        }
      ],
      "source": [
        "# reversing t\n",
        "t.reverse()\n",
        "t"
      ]
    },
    {
      "cell_type": "markdown",
      "id": "ba22d422",
      "metadata": {
        "id": "ba22d422"
      },
      "source": [
        "([back to text](#dir2-2-3))"
      ]
    },
    {
      "cell_type": "markdown",
      "id": "f7987b88",
      "metadata": {
        "id": "f7987b88"
      },
      "source": [
        "### Exercise 4\n",
        "\n",
        "**Challenging** For the tuple `foo` below, use a combination of `zip`,\n",
        "`range`, and `len` to mimic `enumerate(foo)`.\n",
        "\n",
        "Verify that your proposed solution is correct by converting each to a list\n",
        "and checking equality with `==`.\n",
        "\n",
        "You can see what the answer should look like by starting with\n",
        "`list(enumerate(foo))`."
      ]
    },
    {
      "cell_type": "code",
      "execution_count": 48,
      "id": "16e9527b",
      "metadata": {
        "hide-output": false,
        "id": "16e9527b"
      },
      "outputs": [],
      "source": [
        "foo = (\"good\", \"luck!\")"
      ]
    },
    {
      "cell_type": "code",
      "source": [
        "e = list(zip(range(len(foo)), foo))\n",
        "e"
      ],
      "metadata": {
        "id": "zDNpfRVFQNoQ",
        "outputId": "195a1bf5-af38-45c2-fc14-cdbab0c9974c",
        "colab": {
          "base_uri": "https://localhost:8080/"
        }
      },
      "id": "zDNpfRVFQNoQ",
      "execution_count": 49,
      "outputs": [
        {
          "output_type": "execute_result",
          "data": {
            "text/plain": [
              "[(0, 'good'), (1, 'luck!')]"
            ]
          },
          "metadata": {},
          "execution_count": 49
        }
      ]
    },
    {
      "cell_type": "code",
      "source": [
        "e = list(enumerate(foo))\n",
        "e\n"
      ],
      "metadata": {
        "id": "u9jRIwX3Q4II",
        "outputId": "b956843d-e66d-4ed9-fa01-b723b2239f71",
        "colab": {
          "base_uri": "https://localhost:8080/"
        }
      },
      "id": "u9jRIwX3Q4II",
      "execution_count": 50,
      "outputs": [
        {
          "output_type": "execute_result",
          "data": {
            "text/plain": [
              "[(0, 'good'), (1, 'luck!')]"
            ]
          },
          "metadata": {},
          "execution_count": 50
        }
      ]
    },
    {
      "cell_type": "markdown",
      "id": "7915d192",
      "metadata": {
        "id": "7915d192"
      },
      "source": [
        "([back to text](#dir2-2-4))"
      ]
    },
    {
      "cell_type": "code",
      "source": [
        "gdp_data = [9.607, 10.48, 11.06]\n",
        "years = [2013, 2014, 2015]\n",
        "z = zip(years, gdp_data)\n",
        "l = list(z)\n",
        "print(l)\n",
        "m = list(z)\n",
        "print(m)"
      ],
      "metadata": {
        "id": "ik2pPhaWXUQ5",
        "outputId": "1807ca4d-7ed8-41ff-8f8c-1847e95bf3df",
        "colab": {
          "base_uri": "https://localhost:8080/"
        }
      },
      "id": "ik2pPhaWXUQ5",
      "execution_count": 53,
      "outputs": [
        {
          "output_type": "stream",
          "name": "stdout",
          "text": [
            "[(2013, 9.607), (2014, 10.48), (2015, 11.06)]\n",
            "[]\n"
          ]
        }
      ]
    },
    {
      "cell_type": "markdown",
      "id": "9d93f030",
      "metadata": {
        "id": "9d93f030"
      },
      "source": [
        "### Exercise 5\n",
        "\n",
        "Create a new dict which associates stock tickers with its stock price.\n",
        "\n",
        "Here are some tickers and a price.\n",
        "\n",
        "- AAPL: 175.96  \n",
        "- GOOGL: 1047.43  \n",
        "- TVIX: 8.38  "
      ]
    },
    {
      "cell_type": "code",
      "execution_count": 60,
      "id": "5050f68e",
      "metadata": {
        "hide-output": false,
        "id": "5050f68e",
        "outputId": "d19d3ea8-800a-4a51-a0cd-f57580445fe4",
        "colab": {
          "base_uri": "https://localhost:8080/"
        }
      },
      "outputs": [
        {
          "output_type": "execute_result",
          "data": {
            "text/plain": [
              "{'AAPL': 175.96, 'GOOGL': 1047.43, 'TVIX': 8.38}"
            ]
          },
          "metadata": {},
          "execution_count": 60
        }
      ],
      "source": [
        "# your code here\n",
        "stock_price = {\n",
        "    'AAPL': 175.96,\n",
        "    'GOOGL': 1047.43,\n",
        "    'TVIX': 8.38\n",
        "    }\n",
        "\n",
        "stock_price"
      ]
    },
    {
      "cell_type": "markdown",
      "id": "8c5cf932",
      "metadata": {
        "id": "8c5cf932"
      },
      "source": [
        "([back to text](#dir2-2-5))"
      ]
    },
    {
      "cell_type": "markdown",
      "id": "cad62232",
      "metadata": {
        "id": "cad62232"
      },
      "source": [
        "### Exercise 6\n",
        "\n",
        "Look at the [World Factbook for Australia](https://www.cia.gov/the-world-factbook/countries/australia)\n",
        "and create a dictionary with data containing the following types:\n",
        "float, string, integer, list, and dict.  Choose any data you wish.\n",
        "\n",
        "To confirm, you should have a dictionary that you identified via a key."
      ]
    },
    {
      "cell_type": "code",
      "execution_count": 62,
      "id": "2e5b1fc5",
      "metadata": {
        "hide-output": false,
        "id": "2e5b1fc5",
        "outputId": "73728cc0-13e8-4f43-9691-904f7d74da81",
        "colab": {
          "base_uri": "https://localhost:8080/"
        }
      },
      "outputs": [
        {
          "output_type": "execute_result",
          "data": {
            "text/plain": [
              "{'country': 'Australia',\n",
              " 'area': 7692024.0,\n",
              " 'population': 26000000,\n",
              " 'major_cities': ['Sydney', 'Melbourne', 'Brisbane', 'Perth'],\n",
              " 'government': {'type': 'Parliamentary Democracy',\n",
              "  'capital': 'Canberra',\n",
              "  'independence_year': 1901}}"
            ]
          },
          "metadata": {},
          "execution_count": 62
        }
      ],
      "source": [
        "# your code here\n",
        "\n",
        "# Dictionary with mixed data types about Australia\n",
        "australia_data = {\n",
        "    \"country\": \"Australia\",                      # String\n",
        "    \"area\": 7692024.0,                          # Float (area in square kilometers)\n",
        "    \"population\": 26000000,                     # Integer (approximate population)\n",
        "    \"major_cities\": [\"Sydney\", \"Melbourne\", \"Brisbane\", \"Perth\"],  # List of major cities\n",
        "    \"government\": {                             # Nested dictionary\n",
        "        \"type\": \"Parliamentary Democracy\",\n",
        "        \"capital\": \"Canberra\",\n",
        "        \"independence_year\": 1901\n",
        "    }\n",
        "}\n",
        "\n",
        "# Access and print the dictionary to confirm\n",
        "australia_data\n"
      ]
    },
    {
      "cell_type": "markdown",
      "id": "8161bbeb",
      "metadata": {
        "id": "8161bbeb"
      },
      "source": [
        "([back to text](#dir2-2-6))"
      ]
    },
    {
      "cell_type": "markdown",
      "id": "64270b87",
      "metadata": {
        "id": "64270b87"
      },
      "source": [
        "### Exercise 7\n",
        "\n",
        "Use Jupyter’s help facilities to learn how to use the `pop` method to\n",
        "remove the key `\"irrigated_land\"` (and its value) from the dict."
      ]
    },
    {
      "cell_type": "code",
      "execution_count": 92,
      "id": "ec8516b4",
      "metadata": {
        "hide-output": false,
        "id": "ec8516b4",
        "outputId": "075acb40-b2e9-404f-b5f8-ba40bad20cb4",
        "colab": {
          "base_uri": "https://localhost:8080/"
        }
      },
      "outputs": [
        {
          "output_type": "execute_result",
          "data": {
            "text/plain": [
              "{'country': 'China',\n",
              " 'year': 2015,\n",
              " 'GDP': 11.06,\n",
              " 'population': 1.371,\n",
              " 'unemployment': 4.051,\n",
              " 'irrigated_land': 690070,\n",
              " 'top_religions': {'buddhist': 18.2, 'christian': 5.1, 'muslim': 1.8}}"
            ]
          },
          "metadata": {},
          "execution_count": 92
        }
      ],
      "source": [
        "# uncomment and use the Inspector or ?\n",
        "#china_data.pop()\n",
        "china_data"
      ]
    },
    {
      "cell_type": "code",
      "source": [
        "china_data.pop('population')\n"
      ],
      "metadata": {
        "id": "r--wvBS_v2I9",
        "outputId": "ad708868-a1d8-4aa0-fae4-542ac5b33a43",
        "colab": {
          "base_uri": "https://localhost:8080/"
        }
      },
      "id": "r--wvBS_v2I9",
      "execution_count": 96,
      "outputs": [
        {
          "output_type": "execute_result",
          "data": {
            "text/plain": [
              "1.371"
            ]
          },
          "metadata": {},
          "execution_count": 96
        }
      ]
    },
    {
      "cell_type": "code",
      "source": [
        "china_data"
      ],
      "metadata": {
        "id": "t12bttDLwEHA",
        "outputId": "ed94e269-68c4-4a34-81a4-2362e4035f7f",
        "colab": {
          "base_uri": "https://localhost:8080/"
        }
      },
      "id": "t12bttDLwEHA",
      "execution_count": 97,
      "outputs": [
        {
          "output_type": "execute_result",
          "data": {
            "text/plain": [
              "{'country': 'China',\n",
              " 'year': 2015,\n",
              " 'GDP': 11.06,\n",
              " 'unemployment': 4.051,\n",
              " 'top_religions': {'buddhist': 18.2, 'christian': 5.1, 'muslim': 1.8}}"
            ]
          },
          "metadata": {},
          "execution_count": 97
        }
      ]
    },
    {
      "cell_type": "markdown",
      "id": "bdfcea37",
      "metadata": {
        "id": "bdfcea37"
      },
      "source": [
        "([back to text](#dir2-2-7))"
      ]
    },
    {
      "cell_type": "markdown",
      "id": "f104f74a",
      "metadata": {
        "id": "f104f74a"
      },
      "source": [
        "### Exercise 8\n",
        "\n",
        "Explain what happens to the value you popped.\n",
        "\n",
        "Experiment with calling `pop` twice."
      ]
    },
    {
      "cell_type": "code",
      "execution_count": 98,
      "id": "1f272e15",
      "metadata": {
        "hide-output": false,
        "id": "1f272e15"
      },
      "outputs": [],
      "source": [
        "# your code here\n",
        "#twice makes it error as it already drop it"
      ]
    },
    {
      "cell_type": "markdown",
      "id": "d911f81b",
      "metadata": {
        "id": "d911f81b"
      },
      "source": [
        "([back to text](#dir2-2-8))"
      ]
    },
    {
      "cell_type": "markdown",
      "id": "560897d2",
      "metadata": {
        "id": "560897d2"
      },
      "source": [
        "### Exercise 9\n",
        "\n",
        "Try creating a set with repeated elements (e.g. `{1, 2, 1, 2, 1, 2}`).\n",
        "\n",
        "What happens?\n",
        "\n",
        "Why?"
      ]
    },
    {
      "cell_type": "code",
      "execution_count": 99,
      "id": "51dc7e22",
      "metadata": {
        "hide-output": false,
        "id": "51dc7e22",
        "outputId": "52b1d56d-0cf2-4e50-db16-a3d7b4ee767f",
        "colab": {
          "base_uri": "https://localhost:8080/"
        }
      },
      "outputs": [
        {
          "output_type": "execute_result",
          "data": {
            "text/plain": [
              "{1, 2}"
            ]
          },
          "metadata": {},
          "execution_count": 99
        }
      ],
      "source": [
        "# your code here\n",
        "set = {1, 2, 1, 2, 1, 2}\n",
        "set"
      ]
    },
    {
      "cell_type": "markdown",
      "id": "20f0abbc",
      "metadata": {
        "id": "20f0abbc"
      },
      "source": [
        "([back to text](#dir2-2-9))"
      ]
    },
    {
      "cell_type": "markdown",
      "id": "3f19e71f",
      "metadata": {
        "id": "3f19e71f"
      },
      "source": [
        "### Exercise 10\n",
        "\n",
        "Test out two of the operations described above using the original set we\n",
        "created, `s`, and the set created below `s2`."
      ]
    },
    {
      "cell_type": "code",
      "execution_count": null,
      "id": "8d426d2f",
      "metadata": {
        "hide-output": false,
        "id": "8d426d2f"
      },
      "outputs": [],
      "source": [
        "s2 = {\"hello\", \"world\"}"
      ]
    },
    {
      "cell_type": "code",
      "execution_count": 101,
      "id": "55ecd5d2",
      "metadata": {
        "hide-output": false,
        "id": "55ecd5d2"
      },
      "outputs": [],
      "source": [
        "# Operation 1\n",
        "s1 = {1, 2, 'hello'}"
      ]
    },
    {
      "cell_type": "code",
      "execution_count": 102,
      "id": "b9bc865e",
      "metadata": {
        "hide-output": false,
        "id": "b9bc865e"
      },
      "outputs": [],
      "source": [
        "# Operation 2\n",
        "s2 = {\"hello\", \"world\"}"
      ]
    },
    {
      "cell_type": "code",
      "source": [
        "s_union = s1|s2\n",
        "s_union"
      ],
      "metadata": {
        "id": "KJlA8fXmxYMc",
        "outputId": "b86bba89-4bca-4762-c210-9512e52fa79a",
        "colab": {
          "base_uri": "https://localhost:8080/"
        }
      },
      "id": "KJlA8fXmxYMc",
      "execution_count": 104,
      "outputs": [
        {
          "output_type": "execute_result",
          "data": {
            "text/plain": [
              "{1, 2, 'hello', 'world'}"
            ]
          },
          "metadata": {},
          "execution_count": 104
        }
      ]
    },
    {
      "cell_type": "code",
      "source": [
        "s_intersect = s1&s2\n",
        "s_intersect"
      ],
      "metadata": {
        "id": "rwTP7n0WxiM8",
        "outputId": "8d123924-7b46-4626-dea8-d3e0331c4272",
        "colab": {
          "base_uri": "https://localhost:8080/"
        }
      },
      "id": "rwTP7n0WxiM8",
      "execution_count": 105,
      "outputs": [
        {
          "output_type": "execute_result",
          "data": {
            "text/plain": [
              "{'hello'}"
            ]
          },
          "metadata": {},
          "execution_count": 105
        }
      ]
    },
    {
      "cell_type": "markdown",
      "id": "821e1365",
      "metadata": {
        "id": "821e1365"
      },
      "source": [
        "([back to text](#dir2-2-10))"
      ]
    }
  ],
  "metadata": {
    "date": 1730850393.6992815,
    "filename": "collections.md",
    "kernelspec": {
      "display_name": "Python",
      "language": "python3",
      "name": "python3"
    },
    "title": "Collections",
    "colab": {
      "provenance": [],
      "include_colab_link": true
    }
  },
  "nbformat": 4,
  "nbformat_minor": 5
}